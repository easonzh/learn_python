{
 "cells": [
  {
   "cell_type": "code",
   "execution_count": 36,
   "metadata": {},
   "outputs": [
    {
     "name": "stdout",
     "output_type": "stream",
     "text": [
      "['trek', 'cannondale', 'redline', 'specialized']\n",
      "redline\n",
      "trek\n",
      "cannondale\n",
      "['cannondale', 'redline']\n",
      "[]\n"
     ]
    }
   ],
   "source": [
    "bicycles = [\"trek\", \"cannondale\", \"redline\", \"specialized\"]\n",
    "print(bicycles)\n",
    "print(bicycles[2])\n",
    "print(bicycles[0])\n",
    "print(bicycles[-3])\n",
    "print(bicycles[1:3])\n",
    "print(bicycles[4:2:3])"
   ]
  }
 ],
 "metadata": {
  "kernelspec": {
   "display_name": "Python 3.10.5 64-bit (windows store)",
   "language": "python",
   "name": "python3"
  },
  "language_info": {
   "codemirror_mode": {
    "name": "ipython",
    "version": 3
   },
   "file_extension": ".py",
   "mimetype": "text/x-python",
   "name": "python",
   "nbconvert_exporter": "python",
   "pygments_lexer": "ipython3",
   "version": "3.10.5"
  },
  "orig_nbformat": 4,
  "vscode": {
   "interpreter": {
    "hash": "67680465ef05ba46a5da912a32c6a975dc5a670ebb67ce7f8dfc03ebfc6d7260"
   }
  }
 },
 "nbformat": 4,
 "nbformat_minor": 2
}

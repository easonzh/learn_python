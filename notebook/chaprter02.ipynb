{
 "cells": [
  {
   "cell_type": "code",
   "execution_count": 8,
   "metadata": {},
   "outputs": [
    {
     "name": "stdout",
     "output_type": "stream",
     "text": [
      "hEllo pYthon woRld!\n",
      "Hello Python World!\n",
      "HELLO PYTHON WORLD!\n",
      "hello python world!\n"
     ]
    }
   ],
   "source": [
    "message = \"hEllo pYthon woRld!\"\n",
    "print(message)\n",
    "print(message.title())\n",
    "print(message.upper())\n",
    "print(message.lower())"
   ]
  },
  {
   "cell_type": "code",
   "execution_count": 5,
   "metadata": {},
   "outputs": [
    {
     "name": "stdout",
     "output_type": "stream",
     "text": [
      "yichen zhao\n",
      "Yichen Zhao\n",
      "YICHEN ZHAO\n"
     ]
    }
   ],
   "source": [
    "name = \"yichen zhao\"\n",
    "print(name)\n",
    "print(name.title())\n",
    "print(name.upper())"
   ]
  },
  {
   "cell_type": "code",
   "execution_count": 22,
   "metadata": {},
   "outputs": [
    {
     "name": "stdout",
     "output_type": "stream",
     "text": [
      "YiChEn zHAo\n",
      "Yichen Zhao\n",
      "Hello Yichen Zhao !\n",
      "Hello Yichen Zhao !\n"
     ]
    }
   ],
   "source": [
    "first_name = \"YiChEn\"\n",
    "last_name = \"zHAo\"\n",
    "full_name = f\"{first_name} {last_name}\"\n",
    "print(full_name)\n",
    "print(full_name.title())\n",
    "print(\"Hello\", full_name.title(), \"!\")\n",
    "print(f\"Hello {full_name.title()} !\")"
   ]
  },
  {
   "cell_type": "code",
   "execution_count": 36,
   "metadata": {},
   "outputs": [
    {
     "name": "stdout",
     "output_type": "stream",
     "text": [
      "Python\n",
      "       Python\n",
      "\tPython\n",
      "Py\n",
      "thon\n",
      "languages: \n",
      "Python \n",
      "C \n",
      "JavaScript\n",
      "languages: \n",
      "Python \n",
      "C \n",
      "Javascript\n"
     ]
    }
   ],
   "source": [
    "print(\"Python\")\n",
    "print(\"       Python\")\n",
    "print(\"\\tPython\")\n",
    "print(\"Py\\nthon\")\n",
    "print(\"languages:\", \"\\nPython\", \"\\nC\", \"\\nJavaScript\")\n",
    "print(f\"languages: \\nPython \\nC \\nJavascript\")"
   ]
  },
  {
   "cell_type": "code",
   "execution_count": 60,
   "metadata": {},
   "outputs": [
    {
     "name": "stdout",
     "output_type": "stream",
     "text": [
      "                Python            \n",
      "34\n",
      "                Python\n",
      "22\n",
      "Python\n",
      "6\n"
     ]
    }
   ],
   "source": [
    "word = \"                Python            \"\n",
    "print(word)\n",
    "print(len(word))\n",
    "print(word.rstrip())\n",
    "print(len(word.rstrip()))\n",
    "print(word.rstrip().lstrip())\n",
    "print(len(word.rstrip().lstrip()))"
   ]
  },
  {
   "cell_type": "code",
   "execution_count": null,
   "metadata": {},
   "outputs": [],
   "source": [
    "name = input(\"Plz tell me your name >:): \")\n",
    "print(f\"Hello {name.title()}, would you like to learn some Python today\")"
   ]
  }
 ],
 "metadata": {
  "kernelspec": {
   "display_name": "Python 3.10.5 64-bit (windows store)",
   "language": "python",
   "name": "python3"
  },
  "language_info": {
   "codemirror_mode": {
    "name": "ipython",
    "version": 3
   },
   "file_extension": ".py",
   "mimetype": "text/x-python",
   "name": "python",
   "nbconvert_exporter": "python",
   "pygments_lexer": "ipython3",
   "version": "3.10.5"
  },
  "orig_nbformat": 4,
  "vscode": {
   "interpreter": {
    "hash": "67680465ef05ba46a5da912a32c6a975dc5a670ebb67ce7f8dfc03ebfc6d7260"
   }
  }
 },
 "nbformat": 4,
 "nbformat_minor": 2
}
